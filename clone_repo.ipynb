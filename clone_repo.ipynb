{
  "nbformat": 4,
  "nbformat_minor": 0,
  "metadata": {
    "colab": {
      "provenance": []
    },
    "kernelspec": {
      "name": "python3",
      "display_name": "Python 3"
    },
    "language_info": {
      "name": "python"
    }
  },
  "cells": [
    {
      "cell_type": "markdown",
      "source": [
        "Run the cell below to clone the repository.\n",
        "You will then find the workshop files in the left pane."
      ],
      "metadata": {
        "id": "Wwk5ZOxC_3y-"
      }
    },
    {
      "cell_type": "code",
      "execution_count": 1,
      "metadata": {
        "colab": {
          "base_uri": "https://localhost:8080/"
        },
        "id": "WSMZN9IY_WEU",
        "outputId": "e13df1c8-e972-4314-afa7-eaead0c342d1"
      },
      "outputs": [
        {
          "output_type": "stream",
          "name": "stdout",
          "text": [
            "Repository cloned to /content/diffusion-models\n"
          ]
        }
      ],
      "source": [
        "import os\n",
        "import subprocess\n",
        "\n",
        "REPO_URL = \"https://github.com/acceleratescience/diffusion-models.git\"\n",
        "\n",
        "# Current notebook directory\n",
        "TARGET_DIR = os.path.join(os.getcwd(), \"diffusion-models\")\n",
        "\n",
        "if os.path.isdir(os.path.join(TARGET_DIR, \".git\")):\n",
        "    print(f\"Repository already exists at {TARGET_DIR} — skipping clone.\")\n",
        "else:\n",
        "    subprocess.run([\"git\", \"clone\", REPO_URL, TARGET_DIR], check=True)\n",
        "    print(f\"Repository cloned to {TARGET_DIR}\")"
      ]
    }
  ]
}